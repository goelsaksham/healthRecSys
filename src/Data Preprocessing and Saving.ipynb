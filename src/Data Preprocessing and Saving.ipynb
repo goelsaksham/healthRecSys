{
 "cells": [
  {
   "cell_type": "markdown",
   "metadata": {},
   "source": [
    "# Data Preprocessing and Saving\n",
    "\n",
    "This notebook is used to load the data from the pickle files saved with health vitals data that has been collected using the Fitbit API. Then it applies some preprocessing and saves all the numpy arrays and dataframes into respective file formats (.h5, .csv)"
   ]
  },
  {
   "cell_type": "markdown",
   "metadata": {},
   "source": [
    "## Importing Required Libraries"
   ]
  },
  {
   "cell_type": "code",
   "execution_count": 1,
   "metadata": {},
   "outputs": [],
   "source": [
    "# Importing scientific libarires required for analysis and handling data\n",
    "import pandas as pd\n",
    "import numpy as np\n",
    "import matplotlib.pyplot as plt\n",
    "%matplotlib inline\n",
    "import seaborn as sns\n",
    "sns.set()\n",
    "\n",
    "# Importing libraries related to handling of files and directory\n",
    "import os\n",
    "import glob\n",
    "import pickle\n",
    "\n",
    "# Importing utility functions from the code base\n",
    "from utils.directory_utils import *\n",
    "from utils.general_utils import *\n",
    "from utils.sleep_utils import *\n",
    "from data_preprocessor.get_user_data import *\n",
    "\n",
    "# Importing Machine Learning utilities\n",
    "from statsmodels.tsa.seasonal import seasonal_decompose"
   ]
  },
  {
   "cell_type": "markdown",
   "metadata": {},
   "source": [
    "## Data\n",
    "\n",
    "This section loads all different types of data from the pickle files that we have saved and then loads the relevant data into numpy array for further analysis"
   ]
  },
  {
   "cell_type": "markdown",
   "metadata": {},
   "source": [
    "### Heart Rate, Sleep, Calories and Activity Time Series Data"
   ]
  },
  {
   "cell_type": "markdown",
   "metadata": {},
   "source": [
    "##### Define the paths to the directories that contain the pickle files with the corresponding data"
   ]
  },
  {
   "cell_type": "code",
   "execution_count": 22,
   "metadata": {},
   "outputs": [
    {
     "data": {
      "text/plain": [
       "129"
      ]
     },
     "execution_count": 22,
     "metadata": {},
     "output_type": "execute_result"
    }
   ],
   "source": [
    "heart_rate_data_directory_path = f'../data/data_files/Abhiraj/heart/'\n",
    "heart_rate_ts_data = []\n",
    "calories_data_directory_path = f'../data/data_files/Abhiraj/calories/'\n",
    "calories_ts_data = []\n",
    "activity_label_ts_data = []\n",
    "sleep_data_directory_path = f'../data/data_files/Abhiraj/sleep/'\n",
    "sleep_efficiency_ratio = []\n",
    "sleep_stages_summary = []\n",
    "\n",
    "common_file_nms = get_file_nms(heart_rate_data_directory_path, '*.pickle')\n",
    "common_file_nms = common_file_nms.intersection(get_file_nms(calories_data_directory_path, '*.pickle'))\n",
    "common_file_nms = common_file_nms.intersection(get_file_nms(sleep_data_directory_path, '*.pickle'))\n",
    "len(common_file_nms)"
   ]
  },
  {
   "cell_type": "markdown",
   "metadata": {},
   "source": [
    "##### Load the data from the pickle files into a list"
   ]
  },
  {
   "cell_type": "code",
   "execution_count": 23,
   "metadata": {},
   "outputs": [],
   "source": [
    "counter = 0\n",
    "for file_name in sorted(list(common_file_nms)):\n",
    "    heart_rate_file_path = construct_path(heart_rate_data_directory_path, file_name)\n",
    "    calories_file_path = construct_path(calories_data_directory_path, file_name)\n",
    "    sleep_file_path = construct_path(sleep_data_directory_path, file_name)\n",
    "    heart_rate_data_raw = pickle.load(open(heart_rate_file_path, 'rb'))\n",
    "    heart_rate_data = get_attribute_val_array_by_minute(heart_rate_data_raw, 'value')\n",
    "    \n",
    "    calories_data_raw = pickle.load(open(calories_file_path, 'rb'))\n",
    "    calories_value_ts = get_attribute_val_array_by_minute(calories_data_raw, 'value')\n",
    "    activity_value_ts = get_attribute_val_array_by_minute(calories_data_raw, 'level')\n",
    "    sleep_data_raw = pickle.load(open(sleep_file_path, 'rb'))\n",
    "    if heart_rate_data.shape != (0,) and not np.isnan(heart_rate_data).all():\n",
    "        if calories_value_ts.shape != (0,) and not np.isnan(calories_value_ts).all():\n",
    "            try:\n",
    "                if get_sleep_stages_summary(sleep_data_raw):\n",
    "                    sleep_stages = get_sleep_stages_summary(sleep_data_raw)\n",
    "                    sleep_ratio = get_time_asleep_to_time_in_bed_ratio(sleep_data_raw, 'fake_user_id')\n",
    "                    counter += 1\n",
    "                    \n",
    "                    heart_rate_ts_data.append(heart_rate_data)\n",
    "                    calories_ts_data.append(calories_value_ts)\n",
    "                    activity_label_ts_data.append(activity_value_ts)\n",
    "                    sleep_efficiency_ratio.append(sleep_ratio)\n",
    "                    sleep_stages_summary.append(sleep_stages)\n",
    "            except:\n",
    "                print(file_name)"
   ]
  },
  {
   "cell_type": "markdown",
   "metadata": {},
   "source": [
    "##### Convert the lists into the correct format: array and dataframe"
   ]
  },
  {
   "cell_type": "code",
   "execution_count": 24,
   "metadata": {},
   "outputs": [],
   "source": [
    "heart_rate_ts_data = np.array(heart_rate_ts_data)\n",
    "calories_ts_data, activity_label_ts_data = np.array(calories_ts_data), np.array(activity_label_ts_data)\n",
    "sleep_efficiency_ratio, sleep_stages_summary = np.array(sleep_efficiency_ratio), pd.DataFrame(list(sleep_stages_summary))"
   ]
  },
  {
   "cell_type": "code",
   "execution_count": 25,
   "metadata": {},
   "outputs": [
    {
     "data": {
      "text/plain": [
       "((32, 1440), (32, 1440), (32, 1440), (32,), (32, 4))"
      ]
     },
     "execution_count": 25,
     "metadata": {},
     "output_type": "execute_result"
    }
   ],
   "source": [
    "# Check for the shape of all the arrays and dataframes\n",
    "heart_rate_ts_data.shape, calories_ts_data.shape, activity_label_ts_data.shape, sleep_efficiency_ratio.shape, sleep_stages_summary.shape"
   ]
  },
  {
   "cell_type": "code",
   "execution_count": 26,
   "metadata": {},
   "outputs": [
    {
     "data": {
      "text/plain": [
       "True"
      ]
     },
     "execution_count": 26,
     "metadata": {},
     "output_type": "execute_result"
    }
   ],
   "source": [
    "user_numpy_array_output_directory = f'../data/data_numpy_arrays/Abhiraj/'\n",
    "check_output_directory(user_numpy_array_output_directory)"
   ]
  },
  {
   "cell_type": "code",
   "execution_count": 27,
   "metadata": {},
   "outputs": [],
   "source": [
    "# Saving the sleep ratio and sleep stages\n",
    "np.save(construct_path(user_numpy_array_output_directory, f'sleep_efficiency_ratio.npy'), sleep_efficiency_ratio)\n",
    "sleep_stages_summary.to_csv(construct_path(user_numpy_array_output_directory, f'sleep_stages_summary.csv'), index=False)"
   ]
  },
  {
   "cell_type": "code",
   "execution_count": 28,
   "metadata": {},
   "outputs": [
    {
     "data": {
      "text/plain": [
       "False"
      ]
     },
     "execution_count": 28,
     "metadata": {},
     "output_type": "execute_result"
    }
   ],
   "source": [
    "# Make sure activity value does not have a nan field (not sure how we would fill this)\n",
    "np.isnan(activity_label_ts_data).any()"
   ]
  },
  {
   "cell_type": "code",
   "execution_count": 29,
   "metadata": {},
   "outputs": [],
   "source": [
    "# Saving the activity_value_ts array\n",
    "np.save(construct_path(user_numpy_array_output_directory, f'activity_label_ts_data.npy'), activity_label_ts_data)"
   ]
  },
  {
   "cell_type": "markdown",
   "metadata": {},
   "source": [
    "## Activity Percentages\n",
    "\n",
    "In this section of the notebook we aggregate the activity labels of a person from minute level to percentage level"
   ]
  },
  {
   "cell_type": "code",
   "execution_count": 30,
   "metadata": {},
   "outputs": [
    {
     "data": {
      "text/plain": [
       "(32, 4)"
      ]
     },
     "execution_count": 30,
     "metadata": {},
     "output_type": "execute_result"
    }
   ],
   "source": [
    "activity_percentages = activity_percentage_finder(activity_label_ts_data)\n",
    "activity_percentages.shape"
   ]
  },
  {
   "cell_type": "code",
   "execution_count": 31,
   "metadata": {},
   "outputs": [],
   "source": [
    "# Saving the activity percentages array\n",
    "np.save(construct_path(user_numpy_array_output_directory, f'activity_percentages.npy'), activity_percentages)"
   ]
  },
  {
   "cell_type": "markdown",
   "metadata": {},
   "source": [
    "## Normalizing the Time Series Data"
   ]
  },
  {
   "cell_type": "code",
   "execution_count": 32,
   "metadata": {},
   "outputs": [],
   "source": [
    "# Remove nans from heart and calories data\n",
    "heart_rate_ts_data = remove_nans_from_array(heart_rate_ts_data)\n",
    "calories_ts_data = remove_nans_from_array(calories_ts_data)"
   ]
  },
  {
   "cell_type": "code",
   "execution_count": 33,
   "metadata": {},
   "outputs": [
    {
     "data": {
      "text/plain": [
       "(False, False)"
      ]
     },
     "execution_count": 33,
     "metadata": {},
     "output_type": "execute_result"
    }
   ],
   "source": [
    "# Check that no nans in any of the data\n",
    "np.isnan(heart_rate_ts_data).any(), np.isnan(calories_ts_data).any()"
   ]
  },
  {
   "cell_type": "code",
   "execution_count": 34,
   "metadata": {},
   "outputs": [],
   "source": [
    "# Saving the Calories and Heart Rate data\n",
    "np.save(construct_path(user_numpy_array_output_directory, f'heart_rate_ts_data.npy'), heart_rate_ts_data)\n",
    "np.save(construct_path(user_numpy_array_output_directory, f'calories_ts_data.npy'), calories_ts_data)"
   ]
  },
  {
   "cell_type": "code",
   "execution_count": 35,
   "metadata": {},
   "outputs": [],
   "source": [
    "# Saving the Calories and Heart Rate data\n",
    "np.save(construct_path(user_numpy_array_output_directory, f'norm_heart_rate_ts_data.npy'), \n",
    "        normalize_time_series_array(heart_rate_ts_data, 24, 60))\n",
    "np.save(construct_path(user_numpy_array_output_directory, f'norm_calories_ts_data.npy'), \n",
    "        normalize_time_series_array(calories_ts_data, 24, 60))"
   ]
  }
 ],
 "metadata": {
  "kernelspec": {
   "display_name": "Python 3",
   "language": "python",
   "name": "python3"
  },
  "language_info": {
   "codemirror_mode": {
    "name": "ipython",
    "version": 3
   },
   "file_extension": ".py",
   "mimetype": "text/x-python",
   "name": "python",
   "nbconvert_exporter": "python",
   "pygments_lexer": "ipython3",
   "version": "3.6.7"
  }
 },
 "nbformat": 4,
 "nbformat_minor": 2
}
