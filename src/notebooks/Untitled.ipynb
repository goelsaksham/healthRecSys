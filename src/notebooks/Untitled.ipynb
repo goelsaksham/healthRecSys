{
 "cells": [
  {
   "cell_type": "code",
   "execution_count": 3,
   "metadata": {},
   "outputs": [],
   "source": [
    "trans = [{'h', 'i'}, {'h', 'i'}, {'h', 'i'}, {'h', 'i'}, {'c', 'd', 'e', 'h', 'i'}, {'c', 'd', 'e', 'h', 'i'}, \n",
    "        {'c', 'd', 'e'}, {'c', 'd', 'e'}, {'c', 'd', 'e'}, {'c', 'd', 'e', 'i'}, {'c', 'd', 'e', 'i'}, set(), {'d', 'g'}, \n",
    "         {'d', 'g'}, set(), {'c'}, {'c'}, set(), set(), set()]"
   ]
  },
  {
   "cell_type": "code",
   "execution_count": 6,
   "metadata": {},
   "outputs": [],
   "source": [
    "def support(items):\n",
    "    counter = 0\n",
    "    for basket in trans:\n",
    "        if len(items - basket) == 0:\n",
    "            counter += 1\n",
    "    return counter"
   ]
  },
  {
   "cell_type": "code",
   "execution_count": 10,
   "metadata": {},
   "outputs": [],
   "source": [
    "def find_all_super_sets(base_items, all_possible_items = 'a,b,c,d,e,f,g,h,i,j'.split(',')):\n",
    "    all_possible_supersets = []\n",
    "    for char in all_possible_items:\n",
    "        if char not in base_items:\n",
    "            all_possible_supersets.append(base_items.union(set([char])))\n",
    "    return all_possible_supersets"
   ]
  },
  {
   "cell_type": "code",
   "execution_count": 27,
   "metadata": {},
   "outputs": [],
   "source": [
    "def is_closed(item_set):\n",
    "    all_superset = find_all_super_sets(item_set)\n",
    "    sup_count = support(item_set)\n",
    "    for super_item_sets in all_superset:\n",
    "        if sup_count <= support(super_item_sets):\n",
    "            #print(super_item_sets)\n",
    "            return False\n",
    "    return True"
   ]
  },
  {
   "cell_type": "code",
   "execution_count": 24,
   "metadata": {},
   "outputs": [
    {
     "data": {
      "text/plain": [
       "(True, True, True, True)"
      ]
     },
     "execution_count": 24,
     "metadata": {},
     "output_type": "execute_result"
    }
   ],
   "source": [
    "is_closed({'c', 'd', 'e'}), is_closed({'c', 'd', 'e', 'i'}), is_closed({'h', 'i'}), is_closed({'d', 'g'})"
   ]
  },
  {
   "cell_type": "code",
   "execution_count": 25,
   "metadata": {},
   "outputs": [
    {
     "data": {
      "text/plain": [
       "(True, True, True)"
      ]
     },
     "execution_count": 25,
     "metadata": {},
     "output_type": "execute_result"
    }
   ],
   "source": [
    "is_closed({'c'}), is_closed({'d'}), is_closed({'i'})"
   ]
  },
  {
   "cell_type": "code",
   "execution_count": 35,
   "metadata": {},
   "outputs": [],
   "source": [
    "for char in 'a,b,c,d,e,f,g,h,i,j'.split(','):\n",
    "    for sup_1 in find_all_super_sets(set([char])):\n",
    "        for sup_2 in find_all_super_sets(sup_1):\n",
    "            for sup_3 in find_all_super_sets(sup_2):\n",
    "                for sup_4 in find_all_super_sets(sup_3):\n",
    "                    for sup_5 in find_all_super_sets(sup_4):\n",
    "                        if is_closed(sup_5):\n",
    "                            print(sup_5, is_closed(sup_5))"
   ]
  },
  {
   "cell_type": "code",
   "execution_count": 11,
   "metadata": {},
   "outputs": [
    {
     "data": {
      "text/plain": [
       "[{'a', 'c', 'd', 'e'},\n",
       " {'b', 'c', 'd', 'e'},\n",
       " {'c', 'd', 'e', 'f'},\n",
       " {'c', 'd', 'e', 'g'},\n",
       " {'c', 'd', 'e', 'h'},\n",
       " {'c', 'd', 'e', 'i'},\n",
       " {'c', 'd', 'e', 'j'}]"
      ]
     },
     "execution_count": 11,
     "metadata": {},
     "output_type": "execute_result"
    }
   ],
   "source": [
    "find_all_super_sets({'c', 'd', 'e'})"
   ]
  },
  {
   "cell_type": "code",
   "execution_count": 7,
   "metadata": {},
   "outputs": [
    {
     "data": {
      "text/plain": [
       "7"
      ]
     },
     "execution_count": 7,
     "metadata": {},
     "output_type": "execute_result"
    }
   ],
   "source": [
    "support({'c', 'd', 'e'})"
   ]
  }
 ],
 "metadata": {
  "kernelspec": {
   "display_name": "Python 3",
   "language": "python",
   "name": "python3"
  },
  "language_info": {
   "codemirror_mode": {
    "name": "ipython",
    "version": 3
   },
   "file_extension": ".py",
   "mimetype": "text/x-python",
   "name": "python",
   "nbconvert_exporter": "python",
   "pygments_lexer": "ipython3",
   "version": "3.6.7"
  }
 },
 "nbformat": 4,
 "nbformat_minor": 2
}
